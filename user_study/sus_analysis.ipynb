{
 "cells": [
  {
   "cell_type": "code",
   "execution_count": 1,
   "metadata": {},
   "outputs": [],
   "source": [
    "import numpy as np\n",
    "import pandas as pd\n",
    "import matplotlib.pyplot as plt"
   ]
  },
  {
   "cell_type": "markdown",
   "metadata": {},
   "source": [
    "## Pre Analysis"
   ]
  },
  {
   "cell_type": "code",
   "execution_count": 2,
   "metadata": {},
   "outputs": [
    {
     "data": {
      "text/html": [
       "<div>\n",
       "<style scoped>\n",
       "    .dataframe tbody tr th:only-of-type {\n",
       "        vertical-align: middle;\n",
       "    }\n",
       "\n",
       "    .dataframe tbody tr th {\n",
       "        vertical-align: top;\n",
       "    }\n",
       "\n",
       "    .dataframe thead th {\n",
       "        text-align: right;\n",
       "    }\n",
       "</style>\n",
       "<table border=\"1\" class=\"dataframe\">\n",
       "  <thead>\n",
       "    <tr style=\"text-align: right;\">\n",
       "      <th></th>\n",
       "      <th>时间戳记</th>\n",
       "      <th>1. Have you used VR/MR hardwares before? If yes, please indicate the device in the next question.</th>\n",
       "      <th>2.1 Have you used a 3D labelling tool before?</th>\n",
       "      <th>2.2  If you have used a 3D labelling tool before, is it a computer-based tool?</th>\n",
       "      <th>3.1 Have you worked in 3D related projects before? e.g. 3D segmentation</th>\n",
       "      <th>3.2 If you have worked with a 3D-related project, can you describe what kind of project it is?</th>\n",
       "      <th>Which mode is the user testing on?</th>\n",
       "    </tr>\n",
       "  </thead>\n",
       "  <tbody>\n",
       "    <tr>\n",
       "      <th>0</th>\n",
       "      <td>2021-12-6 上午02:57:48</td>\n",
       "      <td>Yes</td>\n",
       "      <td>Yes</td>\n",
       "      <td>Yes</td>\n",
       "      <td>Yes</td>\n",
       "      <td>The purpose was to label satellite imagery</td>\n",
       "      <td>Mode 1</td>\n",
       "    </tr>\n",
       "    <tr>\n",
       "      <th>1</th>\n",
       "      <td>2021-12-6 下午05:06:18</td>\n",
       "      <td>No</td>\n",
       "      <td>No</td>\n",
       "      <td>NaN</td>\n",
       "      <td>No</td>\n",
       "      <td>NaN</td>\n",
       "      <td>Mode 1</td>\n",
       "    </tr>\n",
       "    <tr>\n",
       "      <th>2</th>\n",
       "      <td>2021-12-6 下午05:46:24</td>\n",
       "      <td>Yes</td>\n",
       "      <td>No</td>\n",
       "      <td>NaN</td>\n",
       "      <td>No</td>\n",
       "      <td>NaN</td>\n",
       "      <td>Mode 1</td>\n",
       "    </tr>\n",
       "    <tr>\n",
       "      <th>3</th>\n",
       "      <td>2021-12-6 下午06:22:16</td>\n",
       "      <td>Yes</td>\n",
       "      <td>No</td>\n",
       "      <td>NaN</td>\n",
       "      <td>No</td>\n",
       "      <td>NaN</td>\n",
       "      <td>Mode 1</td>\n",
       "    </tr>\n",
       "    <tr>\n",
       "      <th>4</th>\n",
       "      <td>2021-12-7 下午03:23:25</td>\n",
       "      <td>Yes</td>\n",
       "      <td>No</td>\n",
       "      <td>NaN</td>\n",
       "      <td>Yes</td>\n",
       "      <td>3D segmentation, working with LiDAR Data, GIS ...</td>\n",
       "      <td>Mode 2</td>\n",
       "    </tr>\n",
       "  </tbody>\n",
       "</table>\n",
       "</div>"
      ],
      "text/plain": [
       "                   时间戳记  \\\n",
       "0  2021-12-6 上午02:57:48   \n",
       "1  2021-12-6 下午05:06:18   \n",
       "2  2021-12-6 下午05:46:24   \n",
       "3  2021-12-6 下午06:22:16   \n",
       "4  2021-12-7 下午03:23:25   \n",
       "\n",
       "  1. Have you used VR/MR hardwares before? If yes, please indicate the device in the next question.  \\\n",
       "0                                                Yes                                                  \n",
       "1                                                 No                                                  \n",
       "2                                                Yes                                                  \n",
       "3                                                Yes                                                  \n",
       "4                                                Yes                                                  \n",
       "\n",
       "  2.1 Have you used a 3D labelling tool before?  \\\n",
       "0                                           Yes   \n",
       "1                                            No   \n",
       "2                                            No   \n",
       "3                                            No   \n",
       "4                                            No   \n",
       "\n",
       "  2.2  If you have used a 3D labelling tool before, is it a computer-based tool?  \\\n",
       "0                                                Yes                               \n",
       "1                                                NaN                               \n",
       "2                                                NaN                               \n",
       "3                                                NaN                               \n",
       "4                                                NaN                               \n",
       "\n",
       "  3.1 Have you worked in 3D related projects before? e.g. 3D segmentation  \\\n",
       "0                                                Yes                        \n",
       "1                                                 No                        \n",
       "2                                                 No                        \n",
       "3                                                 No                        \n",
       "4                                                Yes                        \n",
       "\n",
       "  3.2 If you have worked with a 3D-related project, can you describe what kind of project it is?  \\\n",
       "0         The purpose was to label satellite imagery                                               \n",
       "1                                                NaN                                               \n",
       "2                                                NaN                                               \n",
       "3                                                NaN                                               \n",
       "4  3D segmentation, working with LiDAR Data, GIS ...                                               \n",
       "\n",
       "  Which mode is the user testing on?  \n",
       "0                             Mode 1  \n",
       "1                             Mode 1  \n",
       "2                             Mode 1  \n",
       "3                             Mode 1  \n",
       "4                             Mode 2  "
      ]
     },
     "execution_count": 2,
     "metadata": {},
     "output_type": "execute_result"
    }
   ],
   "source": [
    "file = './data/pre.csv'\n",
    "df = pd.read_csv(file)  \n",
    "df.head()"
   ]
  },
  {
   "cell_type": "markdown",
   "metadata": {},
   "source": [
    "## Post Analysis"
   ]
  },
  {
   "cell_type": "code",
   "execution_count": 3,
   "metadata": {},
   "outputs": [
    {
     "data": {
      "text/html": [
       "<div>\n",
       "<style scoped>\n",
       "    .dataframe tbody tr th:only-of-type {\n",
       "        vertical-align: middle;\n",
       "    }\n",
       "\n",
       "    .dataframe tbody tr th {\n",
       "        vertical-align: top;\n",
       "    }\n",
       "\n",
       "    .dataframe thead th {\n",
       "        text-align: right;\n",
       "    }\n",
       "</style>\n",
       "<table border=\"1\" class=\"dataframe\">\n",
       "  <thead>\n",
       "    <tr style=\"text-align: right;\">\n",
       "      <th></th>\n",
       "      <th>Timestamp</th>\n",
       "      <th>1. I think that I would like to use this system frequently.</th>\n",
       "      <th>2. I found the system unnecessarily complex.</th>\n",
       "      <th>3. I thought the system was easy to use</th>\n",
       "      <th>4. I think that I would need the support of a technical person to be able to use this system.</th>\n",
       "      <th>5. I found the various functions in this system were well integrated.</th>\n",
       "      <th>6. I thought there was too much inconsistency in this system.</th>\n",
       "      <th>7. I would imagine that most people would learn to use this system very quickly.</th>\n",
       "      <th>8. I found the system very cumbersome to use.</th>\n",
       "      <th>9. I felt very confident using the system.</th>\n",
       "      <th>10. I needed to learn a lot of things before I could get going with this system.</th>\n",
       "      <th>Which mode is the user testing?</th>\n",
       "    </tr>\n",
       "  </thead>\n",
       "  <tbody>\n",
       "    <tr>\n",
       "      <th>0</th>\n",
       "      <td>06/12/2021 10:37:36</td>\n",
       "      <td>Agree</td>\n",
       "      <td>Disagree</td>\n",
       "      <td>Neutral</td>\n",
       "      <td>Neutral</td>\n",
       "      <td>Agree</td>\n",
       "      <td>Disagree</td>\n",
       "      <td>Neutral</td>\n",
       "      <td>Disagree</td>\n",
       "      <td>Neutral</td>\n",
       "      <td>Disagree</td>\n",
       "      <td>Mode 1</td>\n",
       "    </tr>\n",
       "    <tr>\n",
       "      <th>1</th>\n",
       "      <td>06/12/2021 11:09:17</td>\n",
       "      <td>Neutral</td>\n",
       "      <td>Disagree</td>\n",
       "      <td>Agree</td>\n",
       "      <td>Neutral</td>\n",
       "      <td>Neutral</td>\n",
       "      <td>Disagree</td>\n",
       "      <td>Strongly agree</td>\n",
       "      <td>Disagree</td>\n",
       "      <td>Neutral</td>\n",
       "      <td>Neutral</td>\n",
       "      <td>Mode 1</td>\n",
       "    </tr>\n",
       "    <tr>\n",
       "      <th>2</th>\n",
       "      <td>06/12/2021 11:46:41</td>\n",
       "      <td>Strongly agree</td>\n",
       "      <td>Strongly disagree</td>\n",
       "      <td>Strongly agree</td>\n",
       "      <td>Disagree</td>\n",
       "      <td>Agree</td>\n",
       "      <td>Strongly disagree</td>\n",
       "      <td>Agree</td>\n",
       "      <td>Strongly disagree</td>\n",
       "      <td>Strongly agree</td>\n",
       "      <td>Disagree</td>\n",
       "      <td>Mode 1</td>\n",
       "    </tr>\n",
       "    <tr>\n",
       "      <th>3</th>\n",
       "      <td>08/12/2021 16:27:34</td>\n",
       "      <td>Strongly agree</td>\n",
       "      <td>Strongly disagree</td>\n",
       "      <td>Agree</td>\n",
       "      <td>Disagree</td>\n",
       "      <td>Strongly agree</td>\n",
       "      <td>Disagree</td>\n",
       "      <td>Strongly agree</td>\n",
       "      <td>Disagree</td>\n",
       "      <td>Agree</td>\n",
       "      <td>Disagree</td>\n",
       "      <td>Mode 1</td>\n",
       "    </tr>\n",
       "    <tr>\n",
       "      <th>4</th>\n",
       "      <td>08/12/2021 16:30:32</td>\n",
       "      <td>Neutral</td>\n",
       "      <td>Disagree</td>\n",
       "      <td>Agree</td>\n",
       "      <td>Disagree</td>\n",
       "      <td>Strongly agree</td>\n",
       "      <td>Disagree</td>\n",
       "      <td>Strongly agree</td>\n",
       "      <td>Strongly disagree</td>\n",
       "      <td>Agree</td>\n",
       "      <td>Strongly disagree</td>\n",
       "      <td>Mode 1</td>\n",
       "    </tr>\n",
       "  </tbody>\n",
       "</table>\n",
       "</div>"
      ],
      "text/plain": [
       "             Timestamp  \\\n",
       "0  06/12/2021 10:37:36   \n",
       "1  06/12/2021 11:09:17   \n",
       "2  06/12/2021 11:46:41   \n",
       "3  08/12/2021 16:27:34   \n",
       "4  08/12/2021 16:30:32   \n",
       "\n",
       "  1. I think that I would like to use this system frequently.  \\\n",
       "0                                              Agree            \n",
       "1                                            Neutral            \n",
       "2                                     Strongly agree            \n",
       "3                                     Strongly agree            \n",
       "4                                            Neutral            \n",
       "\n",
       "  2. I found the system unnecessarily complex.  \\\n",
       "0                                     Disagree   \n",
       "1                                     Disagree   \n",
       "2                            Strongly disagree   \n",
       "3                            Strongly disagree   \n",
       "4                                     Disagree   \n",
       "\n",
       "  3. I thought the system was easy to use  \\\n",
       "0                                 Neutral   \n",
       "1                                   Agree   \n",
       "2                          Strongly agree   \n",
       "3                                   Agree   \n",
       "4                                   Agree   \n",
       "\n",
       "  4. I think that I would need the support of a technical person to be able to use this system.  \\\n",
       "0                                            Neutral                                              \n",
       "1                                            Neutral                                              \n",
       "2                                           Disagree                                              \n",
       "3                                           Disagree                                              \n",
       "4                                           Disagree                                              \n",
       "\n",
       "  5. I found the various functions in this system were well integrated.  \\\n",
       "0                                              Agree                      \n",
       "1                                            Neutral                      \n",
       "2                                              Agree                      \n",
       "3                                     Strongly agree                      \n",
       "4                                     Strongly agree                      \n",
       "\n",
       "  6. I thought there was too much inconsistency in this system.  \\\n",
       "0                                           Disagree              \n",
       "1                                           Disagree              \n",
       "2                                  Strongly disagree              \n",
       "3                                           Disagree              \n",
       "4                                           Disagree              \n",
       "\n",
       "  7. I would imagine that most people would learn to use this system very quickly.  \\\n",
       "0                                            Neutral                                 \n",
       "1                                     Strongly agree                                 \n",
       "2                                              Agree                                 \n",
       "3                                     Strongly agree                                 \n",
       "4                                     Strongly agree                                 \n",
       "\n",
       "  8. I found the system very cumbersome to use.  \\\n",
       "0                                      Disagree   \n",
       "1                                      Disagree   \n",
       "2                             Strongly disagree   \n",
       "3                                      Disagree   \n",
       "4                             Strongly disagree   \n",
       "\n",
       "  9. I felt very confident using the system.  \\\n",
       "0                                    Neutral   \n",
       "1                                    Neutral   \n",
       "2                             Strongly agree   \n",
       "3                                      Agree   \n",
       "4                                      Agree   \n",
       "\n",
       "  10. I needed to learn a lot of things before I could get going with this system.  \\\n",
       "0                                           Disagree                                 \n",
       "1                                            Neutral                                 \n",
       "2                                           Disagree                                 \n",
       "3                                           Disagree                                 \n",
       "4                                  Strongly disagree                                 \n",
       "\n",
       "  Which mode is the user testing?  \n",
       "0                          Mode 1  \n",
       "1                          Mode 1  \n",
       "2                          Mode 1  \n",
       "3                          Mode 1  \n",
       "4                          Mode 1  "
      ]
     },
     "execution_count": 3,
     "metadata": {},
     "output_type": "execute_result"
    }
   ],
   "source": [
    "file = './data/post_only.csv'\n",
    "df = pd.read_csv(file)  \n",
    "df.head()"
   ]
  },
  {
   "cell_type": "code",
   "execution_count": 5,
   "metadata": {},
   "outputs": [
    {
     "data": {
      "text/plain": [
       "(array([0, 3, 2, 5]), array([55, 65, 75, 85, 95]))"
      ]
     },
     "execution_count": 5,
     "metadata": {},
     "output_type": "execute_result"
    }
   ],
   "source": [
    "values = {\"Strongly disagree\": 1, \"Disagree\": 2, \"Neutral\": 3, \"Agree\": 4, \"Strongly agree\": 5}\n",
    "modes = {'Mode 1': 1, \"Mode 2\": 2}\n",
    "\n",
    "data = np.genfromtxt(file, skip_header=1, dtype=str, delimiter=',')[:10, :]\n",
    "\n",
    "newdata = np.zeros((len(data), data.shape[1]-1))\n",
    "for i in range(len(data)):\n",
    "    for j in range(data.shape[1]):\n",
    "        if data[i, j].startswith('0'):\n",
    "            continue\n",
    "        if data[i, j].startswith('M'):\n",
    "            newdata[i, j-1] = modes[data[i, j]]\n",
    "            continue\n",
    "        newdata[i, j-1] = values[data[i, j]]-1 if j in [1, 3, 5, 7, 9] else 5-values[data[i, j]]  \n",
    "        \n",
    "newdata = newdata[:, :]\n",
    "scores = newdata[:, :-1]\n",
    "# per person\n",
    "sus = np.sum(scores, axis=1)*2.5\n",
    "np.histogram(sus, bins=[55, 65, 75, 85, 95])"
   ]
  },
  {
   "cell_type": "code",
   "execution_count": 6,
   "metadata": {},
   "outputs": [
    {
     "data": {
      "text/plain": [
       "([<matplotlib.axis.YTick at 0x114791be0>,\n",
       "  <matplotlib.axis.YTick at 0x114791518>,\n",
       "  <matplotlib.axis.YTick at 0x1089de240>,\n",
       "  <matplotlib.axis.YTick at 0x114b212b0>,\n",
       "  <matplotlib.axis.YTick at 0x114b21748>],\n",
       " <a list of 5 Text yticklabel objects>)"
      ]
     },
     "execution_count": 6,
     "metadata": {},
     "output_type": "execute_result"
    },
    {
     "data": {
      "image/png": "[encoded data removed]",
      "text/plain": [
       "<Figure size 432x288 with 1 Axes>"
      ]
     },
     "metadata": {},
     "output_type": "display_data"
    }
   ],
   "source": [
    "plt.hist(sus, rwidth=0.9)\n",
    "plt.grid()\n",
    "plt.xlabel('Standard Usability Score')\n",
    "plt.ylabel('count')\n",
    "plt.yticks([0, 1, 2, 3, 4])"
   ]
  },
  {
   "cell_type": "code",
   "execution_count": 7,
   "metadata": {},
   "outputs": [
    {
     "name": "stdout",
     "output_type": "stream",
     "text": [
      "77.5\n"
     ]
    },
    {
     "data": {
      "text/plain": [
       "(array([2., 0., 0., 0., 0., 0., 0., 1., 1., 1.]),\n",
       " array([65. , 67.5, 70. , 72.5, 75. , 77.5, 80. , 82.5, 85. , 87.5, 90. ]),\n",
       " <a list of 10 Patch objects>)"
      ]
     },
     "execution_count": 7,
     "metadata": {},
     "output_type": "execute_result"
    },
    {
     "data": {
      "image/png": "[encoded data removed]",
      "text/plain": [
       "<Figure size 432x288 with 1 Axes>"
      ]
     },
     "metadata": {},
     "output_type": "display_data"
    }
   ],
   "source": [
    "scores_mode1 = newdata[newdata[:, -1]==1.][:, :-1]\n",
    "# per person\n",
    "sus = np.sum(scores_mode1, axis=1)*2.5\n",
    "np.histogram(sus, bins=[55, 65, 75, 85, 95])\n",
    "print(sus.mean())\n",
    "plt.hist(sus)"
   ]
  },
  {
   "cell_type": "code",
   "execution_count": 8,
   "metadata": {},
   "outputs": [
    {
     "name": "stdout",
     "output_type": "stream",
     "text": [
      "83.5\n"
     ]
    },
    {
     "data": {
      "text/plain": [
       "(array([1., 1., 0., 0., 0., 0., 1., 0., 0., 2.]),\n",
       " array([72.5, 74.5, 76.5, 78.5, 80.5, 82.5, 84.5, 86.5, 88.5, 90.5, 92.5]),\n",
       " <a list of 10 Patch objects>)"
      ]
     },
     "execution_count": 8,
     "metadata": {},
     "output_type": "execute_result"
    },
    {
     "data": {
      "image/png": "[encoded data removed]",
      "text/plain": [
       "<Figure size 432x288 with 1 Axes>"
      ]
     },
     "metadata": {},
     "output_type": "display_data"
    }
   ],
   "source": [
    "scores_mode2 = newdata[newdata[:, -1]==2.][:, :-1]\n",
    "# per person\n",
    "sus = np.sum(scores_mode2, axis=1)*2.5\n",
    "np.histogram(sus, bins=[55, 65, 75, 85, 95])\n",
    "print(sus.mean())\n",
    "plt.hist(sus)"
   ]
  },
  {
   "cell_type": "markdown",
   "metadata": {},
   "source": [
    "## Total\n",
    "Usability scores are high and people found the usability of the applications are good.\n",
    "Two modes achieve similar usability score and differences mainly lie in specific comments. \n",
    "\n",
    "### Dynamic\n",
    "5 participants\n",
    "- Easy to use, good immersive experience.\n",
    "- But better to provide more fine-level brush thickness options\n",
    "\n",
    "### Static\n",
    "5 participants\n",
    "\n",
    "- Complex controlls, reminders are needed\n",
    "- Some people hope to have a more immersive experience (e.g. walk into the room) since it's VR device.\n",
    "\n",
    "## From user's background\n",
    "- used VR before: interesting VR experience but one person thinks it severs no purpose\n",
    "- used 3D labelling tool before: only one person (tried mode 2) found controller more complex than previous tools\n",
    "- worked on 3D projects before: 2 persons, one said could be used to generate ground truth efficiently, the another one said it's hard to label, improvements needed\n",
    "\n",
    "## Problems with user study:\n",
    "only 3 users have experience in 3D projects (only 1 user used 3D labelling tool before) and all of them tried static mode. 2 of them mentioned (including the one user used 3D labelling tool before) it's hard to controll. "
   ]
  },
  {
   "cell_type": "code",
   "execution_count": null,
   "metadata": {},
   "outputs": [],
   "source": []
  }
 ],
 "metadata": {
  "kernelspec": {
   "display_name": "Python 3",
   "language": "python",
   "name": "python3"
  },
  "language_info": {
   "codemirror_mode": {
    "name": "ipython",
    "version": 3
   },
   "file_extension": ".py",
   "mimetype": "text/x-python",
   "name": "python",
   "nbconvert_exporter": "python",
   "pygments_lexer": "ipython3",
   "version": "3.6.5"
  }
 },
 "nbformat": 4,
 "nbformat_minor": 2
}
